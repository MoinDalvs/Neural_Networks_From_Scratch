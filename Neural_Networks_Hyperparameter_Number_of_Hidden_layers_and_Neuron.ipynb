{
 "cells": [
  {
   "cell_type": "markdown",
   "id": "2ddf6e25",
   "metadata": {},
   "source": [
    "### Keras Tuner- Decide Number of Hidden Layers And Neuron In Neural Network"
   ]
  },
  {
   "cell_type": "code",
   "execution_count": 22,
   "id": "aa29ee44",
   "metadata": {},
   "outputs": [],
   "source": [
    "import warnings\n",
    "warnings.filterwarnings('ignore')"
   ]
  },
  {
   "cell_type": "code",
   "execution_count": 106,
   "id": "560bbb31",
   "metadata": {},
   "outputs": [],
   "source": [
    "import pandas as pd\n",
    "from tensorflow import keras\n",
    "from keras import layers, losses\n",
    "from keras_tuner.tuners import RandomSearch\n",
    "import numpy as np"
   ]
  },
  {
   "cell_type": "code",
   "execution_count": 24,
   "id": "f1607bca",
   "metadata": {},
   "outputs": [
    {
     "data": {
      "text/html": [
       "<div>\n",
       "<style scoped>\n",
       "    .dataframe tbody tr th:only-of-type {\n",
       "        vertical-align: middle;\n",
       "    }\n",
       "\n",
       "    .dataframe tbody tr th {\n",
       "        vertical-align: top;\n",
       "    }\n",
       "\n",
       "    .dataframe thead th {\n",
       "        text-align: right;\n",
       "    }\n",
       "</style>\n",
       "<table border=\"1\" class=\"dataframe\">\n",
       "  <thead>\n",
       "    <tr style=\"text-align: right;\">\n",
       "      <th></th>\n",
       "      <th>T</th>\n",
       "      <th>TM</th>\n",
       "      <th>Tm</th>\n",
       "      <th>SLP</th>\n",
       "      <th>H</th>\n",
       "      <th>VV</th>\n",
       "      <th>V</th>\n",
       "      <th>VM</th>\n",
       "      <th>PM 2.5</th>\n",
       "    </tr>\n",
       "  </thead>\n",
       "  <tbody>\n",
       "    <tr>\n",
       "      <th>0</th>\n",
       "      <td>7.4</td>\n",
       "      <td>9.8</td>\n",
       "      <td>4.8</td>\n",
       "      <td>1017.6</td>\n",
       "      <td>93.0</td>\n",
       "      <td>0.5</td>\n",
       "      <td>4.3</td>\n",
       "      <td>9.4</td>\n",
       "      <td>219.720833</td>\n",
       "    </tr>\n",
       "    <tr>\n",
       "      <th>1</th>\n",
       "      <td>7.8</td>\n",
       "      <td>12.7</td>\n",
       "      <td>4.4</td>\n",
       "      <td>1018.5</td>\n",
       "      <td>87.0</td>\n",
       "      <td>0.6</td>\n",
       "      <td>4.4</td>\n",
       "      <td>11.1</td>\n",
       "      <td>182.187500</td>\n",
       "    </tr>\n",
       "    <tr>\n",
       "      <th>2</th>\n",
       "      <td>6.7</td>\n",
       "      <td>13.4</td>\n",
       "      <td>2.4</td>\n",
       "      <td>1019.4</td>\n",
       "      <td>82.0</td>\n",
       "      <td>0.6</td>\n",
       "      <td>4.8</td>\n",
       "      <td>11.1</td>\n",
       "      <td>154.037500</td>\n",
       "    </tr>\n",
       "    <tr>\n",
       "      <th>3</th>\n",
       "      <td>8.6</td>\n",
       "      <td>15.5</td>\n",
       "      <td>3.3</td>\n",
       "      <td>1018.7</td>\n",
       "      <td>72.0</td>\n",
       "      <td>0.8</td>\n",
       "      <td>8.1</td>\n",
       "      <td>20.6</td>\n",
       "      <td>223.208333</td>\n",
       "    </tr>\n",
       "    <tr>\n",
       "      <th>4</th>\n",
       "      <td>12.4</td>\n",
       "      <td>20.9</td>\n",
       "      <td>4.4</td>\n",
       "      <td>1017.3</td>\n",
       "      <td>61.0</td>\n",
       "      <td>1.3</td>\n",
       "      <td>8.7</td>\n",
       "      <td>22.2</td>\n",
       "      <td>200.645833</td>\n",
       "    </tr>\n",
       "  </tbody>\n",
       "</table>\n",
       "</div>"
      ],
      "text/plain": [
       "      T    TM   Tm     SLP     H   VV    V    VM      PM 2.5\n",
       "0   7.4   9.8  4.8  1017.6  93.0  0.5  4.3   9.4  219.720833\n",
       "1   7.8  12.7  4.4  1018.5  87.0  0.6  4.4  11.1  182.187500\n",
       "2   6.7  13.4  2.4  1019.4  82.0  0.6  4.8  11.1  154.037500\n",
       "3   8.6  15.5  3.3  1018.7  72.0  0.8  8.1  20.6  223.208333\n",
       "4  12.4  20.9  4.4  1017.3  61.0  1.3  8.7  22.2  200.645833"
      ]
     },
     "execution_count": 24,
     "metadata": {},
     "output_type": "execute_result"
    }
   ],
   "source": [
    "df=pd.read_csv('https://raw.githubusercontent.com/krishnaik06/Keras-Tuner/main/Real_Combine.csv')\n",
    "df.head()"
   ]
  },
  {
   "cell_type": "code",
   "execution_count": 107,
   "id": "51fa3646",
   "metadata": {},
   "outputs": [
    {
     "name": "stdout",
     "output_type": "stream",
     "text": [
      "<class 'pandas.core.frame.DataFrame'>\n",
      "RangeIndex: 1093 entries, 0 to 1092\n",
      "Data columns (total 9 columns):\n",
      " #   Column  Non-Null Count  Dtype  \n",
      "---  ------  --------------  -----  \n",
      " 0   T       1093 non-null   float64\n",
      " 1   TM      1093 non-null   float64\n",
      " 2   Tm      1093 non-null   float64\n",
      " 3   SLP     1093 non-null   float64\n",
      " 4   H       1093 non-null   float64\n",
      " 5   VV      1093 non-null   float64\n",
      " 6   V       1093 non-null   float64\n",
      " 7   VM      1093 non-null   float64\n",
      " 8   PM 2.5  1092 non-null   float64\n",
      "dtypes: float64(9)\n",
      "memory usage: 77.0 KB\n"
     ]
    }
   ],
   "source": [
    "df.info()"
   ]
  },
  {
   "cell_type": "code",
   "execution_count": 52,
   "id": "ba334691",
   "metadata": {},
   "outputs": [
    {
     "data": {
      "text/plain": [
       "T         0\n",
       "TM        0\n",
       "Tm        0\n",
       "SLP       0\n",
       "H         0\n",
       "VV        0\n",
       "V         0\n",
       "VM        0\n",
       "PM 2.5    1\n",
       "dtype: int64"
      ]
     },
     "execution_count": 52,
     "metadata": {},
     "output_type": "execute_result"
    }
   ],
   "source": [
    "df.isnull().sum()"
   ]
  },
  {
   "cell_type": "code",
   "execution_count": 108,
   "id": "b2ca9deb",
   "metadata": {},
   "outputs": [
    {
     "data": {
      "text/html": [
       "<div>\n",
       "<style scoped>\n",
       "    .dataframe tbody tr th:only-of-type {\n",
       "        vertical-align: middle;\n",
       "    }\n",
       "\n",
       "    .dataframe tbody tr th {\n",
       "        vertical-align: top;\n",
       "    }\n",
       "\n",
       "    .dataframe thead th {\n",
       "        text-align: right;\n",
       "    }\n",
       "</style>\n",
       "<table border=\"1\" class=\"dataframe\">\n",
       "  <thead>\n",
       "    <tr style=\"text-align: right;\">\n",
       "      <th></th>\n",
       "      <th>T</th>\n",
       "      <th>TM</th>\n",
       "      <th>Tm</th>\n",
       "      <th>SLP</th>\n",
       "      <th>H</th>\n",
       "      <th>VV</th>\n",
       "      <th>V</th>\n",
       "      <th>VM</th>\n",
       "      <th>PM 2.5</th>\n",
       "    </tr>\n",
       "  </thead>\n",
       "  <tbody>\n",
       "    <tr>\n",
       "      <th>count</th>\n",
       "      <td>1093.000000</td>\n",
       "      <td>1093.000000</td>\n",
       "      <td>1093.000000</td>\n",
       "      <td>1093.000000</td>\n",
       "      <td>1093.000000</td>\n",
       "      <td>1093.000000</td>\n",
       "      <td>1093.000000</td>\n",
       "      <td>1093.000000</td>\n",
       "      <td>1092.000000</td>\n",
       "    </tr>\n",
       "    <tr>\n",
       "      <th>mean</th>\n",
       "      <td>26.009241</td>\n",
       "      <td>32.482251</td>\n",
       "      <td>19.460201</td>\n",
       "      <td>1008.081885</td>\n",
       "      <td>62.918573</td>\n",
       "      <td>2.003111</td>\n",
       "      <td>6.751510</td>\n",
       "      <td>15.805124</td>\n",
       "      <td>109.090984</td>\n",
       "    </tr>\n",
       "    <tr>\n",
       "      <th>std</th>\n",
       "      <td>7.237401</td>\n",
       "      <td>6.679078</td>\n",
       "      <td>7.438653</td>\n",
       "      <td>7.529237</td>\n",
       "      <td>15.709816</td>\n",
       "      <td>0.747541</td>\n",
       "      <td>3.841137</td>\n",
       "      <td>7.308435</td>\n",
       "      <td>84.465790</td>\n",
       "    </tr>\n",
       "    <tr>\n",
       "      <th>min</th>\n",
       "      <td>6.700000</td>\n",
       "      <td>9.800000</td>\n",
       "      <td>0.000000</td>\n",
       "      <td>991.500000</td>\n",
       "      <td>20.000000</td>\n",
       "      <td>0.300000</td>\n",
       "      <td>0.400000</td>\n",
       "      <td>1.900000</td>\n",
       "      <td>0.000000</td>\n",
       "    </tr>\n",
       "    <tr>\n",
       "      <th>25%</th>\n",
       "      <td>19.300000</td>\n",
       "      <td>27.800000</td>\n",
       "      <td>12.100000</td>\n",
       "      <td>1001.100000</td>\n",
       "      <td>54.000000</td>\n",
       "      <td>1.600000</td>\n",
       "      <td>3.700000</td>\n",
       "      <td>11.100000</td>\n",
       "      <td>41.833333</td>\n",
       "    </tr>\n",
       "    <tr>\n",
       "      <th>50%</th>\n",
       "      <td>28.200000</td>\n",
       "      <td>34.200000</td>\n",
       "      <td>21.200000</td>\n",
       "      <td>1008.100000</td>\n",
       "      <td>64.000000</td>\n",
       "      <td>1.900000</td>\n",
       "      <td>6.500000</td>\n",
       "      <td>14.800000</td>\n",
       "      <td>83.458333</td>\n",
       "    </tr>\n",
       "    <tr>\n",
       "      <th>75%</th>\n",
       "      <td>31.700000</td>\n",
       "      <td>37.000000</td>\n",
       "      <td>26.000000</td>\n",
       "      <td>1015.000000</td>\n",
       "      <td>74.000000</td>\n",
       "      <td>2.600000</td>\n",
       "      <td>9.100000</td>\n",
       "      <td>18.300000</td>\n",
       "      <td>158.291667</td>\n",
       "    </tr>\n",
       "    <tr>\n",
       "      <th>max</th>\n",
       "      <td>38.500000</td>\n",
       "      <td>45.500000</td>\n",
       "      <td>32.700000</td>\n",
       "      <td>1023.200000</td>\n",
       "      <td>98.000000</td>\n",
       "      <td>5.800000</td>\n",
       "      <td>24.400000</td>\n",
       "      <td>57.600000</td>\n",
       "      <td>404.500000</td>\n",
       "    </tr>\n",
       "  </tbody>\n",
       "</table>\n",
       "</div>"
      ],
      "text/plain": [
       "                 T           TM           Tm          SLP            H  \\\n",
       "count  1093.000000  1093.000000  1093.000000  1093.000000  1093.000000   \n",
       "mean     26.009241    32.482251    19.460201  1008.081885    62.918573   \n",
       "std       7.237401     6.679078     7.438653     7.529237    15.709816   \n",
       "min       6.700000     9.800000     0.000000   991.500000    20.000000   \n",
       "25%      19.300000    27.800000    12.100000  1001.100000    54.000000   \n",
       "50%      28.200000    34.200000    21.200000  1008.100000    64.000000   \n",
       "75%      31.700000    37.000000    26.000000  1015.000000    74.000000   \n",
       "max      38.500000    45.500000    32.700000  1023.200000    98.000000   \n",
       "\n",
       "                VV            V           VM       PM 2.5  \n",
       "count  1093.000000  1093.000000  1093.000000  1092.000000  \n",
       "mean      2.003111     6.751510    15.805124   109.090984  \n",
       "std       0.747541     3.841137     7.308435    84.465790  \n",
       "min       0.300000     0.400000     1.900000     0.000000  \n",
       "25%       1.600000     3.700000    11.100000    41.833333  \n",
       "50%       1.900000     6.500000    14.800000    83.458333  \n",
       "75%       2.600000     9.100000    18.300000   158.291667  \n",
       "max       5.800000    24.400000    57.600000   404.500000  "
      ]
     },
     "execution_count": 108,
     "metadata": {},
     "output_type": "execute_result"
    }
   ],
   "source": [
    "df.describe()"
   ]
  },
  {
   "cell_type": "code",
   "execution_count": 76,
   "id": "29274fe4",
   "metadata": {},
   "outputs": [
    {
     "data": {
      "text/plain": [
       "T         False\n",
       "TM        False\n",
       "Tm        False\n",
       "SLP       False\n",
       "H         False\n",
       "VV        False\n",
       "V         False\n",
       "VM        False\n",
       "PM 2.5     True\n",
       "dtype: bool"
      ]
     },
     "execution_count": 76,
     "metadata": {},
     "output_type": "execute_result"
    }
   ],
   "source": [
    "df.isnull().any()"
   ]
  },
  {
   "cell_type": "code",
   "execution_count": 77,
   "id": "9472c29e",
   "metadata": {},
   "outputs": [
    {
     "name": "stdout",
     "output_type": "stream",
     "text": [
      "37 \n",
      "          T    TM    Tm     SLP     H   VV     V    VM      PM 2.5\n",
      "45    24.7  31.5  17.0  1008.6  57.0  2.1   7.6  14.8    0.000000\n",
      "57    28.0  38.6  23.8  1007.3  48.0  2.3  15.6  25.9    0.000000\n",
      "60    31.4  37.8  22.0  1006.9  38.0  2.3  13.7  22.2    0.000000\n",
      "93    32.8  37.6  28.4   995.8  67.0  1.9   9.3  18.3    0.000000\n",
      "127   30.9  35.6  25.0  1004.8  58.0  2.3   6.9  14.8    0.000000\n",
      "128   29.6  34.2  25.8  1007.3  67.0  1.9   6.3  14.8    0.000000\n",
      "129   29.3  35.0  24.1  1007.6  70.0  1.9   4.3  11.1    0.000000\n",
      "193   14.5  21.0   8.6  1023.2  88.0  1.3   3.5   7.6    0.000000\n",
      "194   14.6  22.3   9.0  1021.2  86.0  1.0   4.4   9.4    0.000000\n",
      "325   30.3  36.9  24.6  1009.1  58.0  2.6   2.8   9.4    0.000000\n",
      "326   30.7  37.0  24.4  1008.1  57.0  2.7   2.0  14.8    0.000000\n",
      "330   27.6  34.5  18.6  1009.8  66.0  1.8   8.7  14.8    0.000000\n",
      "473   31.3  36.5  27.3   999.3  73.0  2.7   8.7  14.8    0.000000\n",
      "474   30.0  36.6  27.0   998.8  76.0  2.6  16.9  25.9    0.000000\n",
      "517   26.4  34.4  18.3  1012.8  53.0  2.1   5.4  14.8    0.000000\n",
      "545   12.6  21.0   0.0  1018.9  68.0  1.4   2.6   9.4  264.583333\n",
      "606   34.0  40.6  26.3  1005.5  29.0  2.6  13.9  22.2    0.000000\n",
      "609   33.4  40.0  21.2  1006.3  27.0  2.6   3.7  14.8    0.000000\n",
      "610   33.2  40.3  22.2  1005.1  29.0  2.3   5.0  14.8    0.000000\n",
      "611   34.0  40.7  22.2  1004.6  24.0  2.4  11.9  22.2    0.000000\n",
      "643   32.2  39.8  25.4   995.4  73.0  2.3   8.3  14.8    0.000000\n",
      "677   31.1  35.0  25.0  1003.1  64.0  3.2  10.4  18.3    0.000000\n",
      "678   31.3  35.0  26.0  1004.6  63.0  3.2  11.5  18.3    0.000000\n",
      "787   34.0  40.6  26.3  1005.5  29.0  2.6  13.9  22.2    0.000000\n",
      "790   33.4  40.0  21.2  1006.3  27.0  2.6   3.7  14.8    0.000000\n",
      "791   33.2  40.3  22.2  1005.1  29.0  2.3   5.0  14.8    0.000000\n",
      "792   34.0  40.7  22.2  1004.6  24.0  2.4  11.9  22.2    0.000000\n",
      "824   32.2  39.8  25.4   995.4  73.0  2.3   8.3  14.8    0.000000\n",
      "858   31.1  35.0  25.0  1003.1  64.0  3.2  10.4  18.3    0.000000\n",
      "859   31.3  35.0  26.0  1004.6  63.0  3.2  11.5  18.3    0.000000\n",
      "968   34.0  40.6  26.3  1005.5  29.0  2.6  13.9  22.2    0.000000\n",
      "971   33.4  40.0  21.2  1006.3  27.0  2.6   3.7  14.8    0.000000\n",
      "972   33.2  40.3  22.2  1005.1  29.0  2.3   5.0  14.8    0.000000\n",
      "973   34.0  40.7  22.2  1004.6  24.0  2.4  11.9  22.2    0.000000\n",
      "1005  32.2  39.8  25.4   995.4  73.0  2.3   8.3  14.8    0.000000\n",
      "1039  31.1  35.0  25.0  1003.1  64.0  3.2  10.4  18.3    0.000000\n",
      "1040  31.3  35.0  26.0  1004.6  63.0  3.2  11.5  18.3    0.000000\n"
     ]
    }
   ],
   "source": [
    "print(len(df[df.values==0.0]),\"\\n\",\n",
    "df[df.values==0.0])"
   ]
  },
  {
   "cell_type": "code",
   "execution_count": 60,
   "id": "4dbdd4f2",
   "metadata": {},
   "outputs": [
    {
     "data": {
      "text/plain": [
       "<AxesSubplot:>"
      ]
     },
     "execution_count": 60,
     "metadata": {},
     "output_type": "execute_result"
    },
    {
     "data": {
      "image/png": "[encoded data removed]",
      "text/plain": [
       "<Figure size 1152x648 with 2 Axes>"
      ]
     },
     "metadata": {
      "needs_background": "light"
     },
     "output_type": "display_data"
    }
   ],
   "source": [
    "import matplotlib.pyplot as plt\n",
    "import seaborn as sns\n",
    "plt.figure(figsize = (16,9))\n",
    "plt.xticks(fontsize = 14)\n",
    "cols= df.columns\n",
    "colors = ['#000000','#7FFF00']\n",
    "sns.heatmap(df[cols].isnull(), cmap = sns.color_palette(colors))"
   ]
  },
  {
   "cell_type": "code",
   "execution_count": 61,
   "id": "e69e4bff",
   "metadata": {},
   "outputs": [
    {
     "data": {
      "text/plain": [
       "<AxesSubplot:>"
      ]
     },
     "execution_count": 61,
     "metadata": {},
     "output_type": "execute_result"
    },
    {
     "data": {
      "image/png": "[encoded data removed]",
      "text/plain": [
       "<Figure size 1800x720 with 2 Axes>"
      ]
     },
     "metadata": {
      "needs_background": "light"
     },
     "output_type": "display_data"
    }
   ],
   "source": [
    "import missingno as mn\n",
    "mn.matrix(df)"
   ]
  },
  {
   "cell_type": "code",
   "execution_count": 53,
   "id": "70e47333",
   "metadata": {},
   "outputs": [
    {
     "data": {
      "text/plain": [
       "<AxesSubplot:>"
      ]
     },
     "execution_count": 53,
     "metadata": {},
     "output_type": "execute_result"
    },
    {
     "data": {
      "image/png": "[encoded data removed]",
      "text/plain": [
       "<Figure size 432x288 with 1 Axes>"
      ]
     },
     "metadata": {
      "needs_background": "light"
     },
     "output_type": "display_data"
    }
   ],
   "source": [
    "df['PM 2.5'].hist()"
   ]
  },
  {
   "cell_type": "code",
   "execution_count": 57,
   "id": "06d94517",
   "metadata": {},
   "outputs": [
    {
     "data": {
      "text/plain": [
       "<AxesSubplot:>"
      ]
     },
     "execution_count": 57,
     "metadata": {},
     "output_type": "execute_result"
    },
    {
     "data": {
      "image/png": "[encoded data removed]",
      "text/plain": [
       "<Figure size 432x288 with 1 Axes>"
      ]
     },
     "metadata": {
      "needs_background": "light"
     },
     "output_type": "display_data"
    }
   ],
   "source": [
    "df[['PM 2.5']].boxplot()"
   ]
  },
  {
   "cell_type": "code",
   "execution_count": 87,
   "id": "8ea7b7fe",
   "metadata": {},
   "outputs": [],
   "source": [
    "updated_df = df.copy()\n",
    "updated_df['PM 2.5']=updated_df['PM 2.5'].fillna(updated_df['PM 2.5'].median())"
   ]
  },
  {
   "cell_type": "code",
   "execution_count": 88,
   "id": "3bd82296",
   "metadata": {},
   "outputs": [
    {
     "data": {
      "text/plain": [
       "T         0\n",
       "TM        0\n",
       "Tm        0\n",
       "SLP       0\n",
       "H         0\n",
       "VV        0\n",
       "V         0\n",
       "VM        0\n",
       "PM 2.5    0\n",
       "dtype: int64"
      ]
     },
     "execution_count": 88,
     "metadata": {},
     "output_type": "execute_result"
    }
   ],
   "source": [
    "updated_df.isnull().sum()"
   ]
  },
  {
   "cell_type": "code",
   "execution_count": 89,
   "id": "4f92ecb0",
   "metadata": {},
   "outputs": [
    {
     "data": {
      "text/plain": [
       "(362, 9)"
      ]
     },
     "execution_count": 89,
     "metadata": {},
     "output_type": "execute_result"
    }
   ],
   "source": [
    "updated_df[updated_df.duplicated()].shape"
   ]
  },
  {
   "cell_type": "code",
   "execution_count": 90,
   "id": "88071871",
   "metadata": {},
   "outputs": [
    {
     "data": {
      "text/html": [
       "<div>\n",
       "<style scoped>\n",
       "    .dataframe tbody tr th:only-of-type {\n",
       "        vertical-align: middle;\n",
       "    }\n",
       "\n",
       "    .dataframe tbody tr th {\n",
       "        vertical-align: top;\n",
       "    }\n",
       "\n",
       "    .dataframe thead th {\n",
       "        text-align: right;\n",
       "    }\n",
       "</style>\n",
       "<table border=\"1\" class=\"dataframe\">\n",
       "  <thead>\n",
       "    <tr style=\"text-align: right;\">\n",
       "      <th></th>\n",
       "      <th>T</th>\n",
       "      <th>TM</th>\n",
       "      <th>Tm</th>\n",
       "      <th>SLP</th>\n",
       "      <th>H</th>\n",
       "      <th>VV</th>\n",
       "      <th>V</th>\n",
       "      <th>VM</th>\n",
       "      <th>PM 2.5</th>\n",
       "    </tr>\n",
       "  </thead>\n",
       "  <tbody>\n",
       "    <tr>\n",
       "      <th>731</th>\n",
       "      <td>16.9</td>\n",
       "      <td>25.1</td>\n",
       "      <td>6.6</td>\n",
       "      <td>1021.3</td>\n",
       "      <td>65.0</td>\n",
       "      <td>1.1</td>\n",
       "      <td>2.0</td>\n",
       "      <td>7.6</td>\n",
       "      <td>284.795833</td>\n",
       "    </tr>\n",
       "    <tr>\n",
       "      <th>732</th>\n",
       "      <td>15.5</td>\n",
       "      <td>24.1</td>\n",
       "      <td>7.7</td>\n",
       "      <td>1021.0</td>\n",
       "      <td>71.0</td>\n",
       "      <td>1.1</td>\n",
       "      <td>3.5</td>\n",
       "      <td>11.1</td>\n",
       "      <td>219.720833</td>\n",
       "    </tr>\n",
       "    <tr>\n",
       "      <th>733</th>\n",
       "      <td>14.9</td>\n",
       "      <td>22.8</td>\n",
       "      <td>8.0</td>\n",
       "      <td>1018.4</td>\n",
       "      <td>73.0</td>\n",
       "      <td>1.1</td>\n",
       "      <td>5.9</td>\n",
       "      <td>13.0</td>\n",
       "      <td>182.187500</td>\n",
       "    </tr>\n",
       "    <tr>\n",
       "      <th>734</th>\n",
       "      <td>18.3</td>\n",
       "      <td>24.7</td>\n",
       "      <td>11.5</td>\n",
       "      <td>1018.1</td>\n",
       "      <td>85.0</td>\n",
       "      <td>0.5</td>\n",
       "      <td>1.1</td>\n",
       "      <td>7.6</td>\n",
       "      <td>154.037500</td>\n",
       "    </tr>\n",
       "    <tr>\n",
       "      <th>735</th>\n",
       "      <td>16.5</td>\n",
       "      <td>24.7</td>\n",
       "      <td>12.0</td>\n",
       "      <td>1017.4</td>\n",
       "      <td>82.0</td>\n",
       "      <td>0.6</td>\n",
       "      <td>8.0</td>\n",
       "      <td>13.0</td>\n",
       "      <td>223.208333</td>\n",
       "    </tr>\n",
       "    <tr>\n",
       "      <th>...</th>\n",
       "      <td>...</td>\n",
       "      <td>...</td>\n",
       "      <td>...</td>\n",
       "      <td>...</td>\n",
       "      <td>...</td>\n",
       "      <td>...</td>\n",
       "      <td>...</td>\n",
       "      <td>...</td>\n",
       "      <td>...</td>\n",
       "    </tr>\n",
       "    <tr>\n",
       "      <th>1088</th>\n",
       "      <td>18.1</td>\n",
       "      <td>24.0</td>\n",
       "      <td>11.2</td>\n",
       "      <td>1015.4</td>\n",
       "      <td>56.0</td>\n",
       "      <td>1.8</td>\n",
       "      <td>15.9</td>\n",
       "      <td>25.9</td>\n",
       "      <td>288.416667</td>\n",
       "    </tr>\n",
       "    <tr>\n",
       "      <th>1089</th>\n",
       "      <td>17.8</td>\n",
       "      <td>25.0</td>\n",
       "      <td>10.7</td>\n",
       "      <td>1015.8</td>\n",
       "      <td>54.0</td>\n",
       "      <td>2.3</td>\n",
       "      <td>9.4</td>\n",
       "      <td>22.2</td>\n",
       "      <td>256.833333</td>\n",
       "    </tr>\n",
       "    <tr>\n",
       "      <th>1090</th>\n",
       "      <td>13.9</td>\n",
       "      <td>24.5</td>\n",
       "      <td>11.4</td>\n",
       "      <td>1015.0</td>\n",
       "      <td>95.0</td>\n",
       "      <td>0.6</td>\n",
       "      <td>8.7</td>\n",
       "      <td>14.8</td>\n",
       "      <td>169.000000</td>\n",
       "    </tr>\n",
       "    <tr>\n",
       "      <th>1091</th>\n",
       "      <td>16.3</td>\n",
       "      <td>23.0</td>\n",
       "      <td>9.8</td>\n",
       "      <td>1016.9</td>\n",
       "      <td>78.0</td>\n",
       "      <td>1.1</td>\n",
       "      <td>7.4</td>\n",
       "      <td>16.5</td>\n",
       "      <td>186.041667</td>\n",
       "    </tr>\n",
       "    <tr>\n",
       "      <th>1092</th>\n",
       "      <td>16.3</td>\n",
       "      <td>23.4</td>\n",
       "      <td>9.0</td>\n",
       "      <td>1017.3</td>\n",
       "      <td>68.0</td>\n",
       "      <td>1.3</td>\n",
       "      <td>7.8</td>\n",
       "      <td>18.3</td>\n",
       "      <td>185.583333</td>\n",
       "    </tr>\n",
       "  </tbody>\n",
       "</table>\n",
       "<p>362 rows × 9 columns</p>\n",
       "</div>"
      ],
      "text/plain": [
       "         T    TM    Tm     SLP     H   VV     V    VM      PM 2.5\n",
       "731   16.9  25.1   6.6  1021.3  65.0  1.1   2.0   7.6  284.795833\n",
       "732   15.5  24.1   7.7  1021.0  71.0  1.1   3.5  11.1  219.720833\n",
       "733   14.9  22.8   8.0  1018.4  73.0  1.1   5.9  13.0  182.187500\n",
       "734   18.3  24.7  11.5  1018.1  85.0  0.5   1.1   7.6  154.037500\n",
       "735   16.5  24.7  12.0  1017.4  82.0  0.6   8.0  13.0  223.208333\n",
       "...    ...   ...   ...     ...   ...  ...   ...   ...         ...\n",
       "1088  18.1  24.0  11.2  1015.4  56.0  1.8  15.9  25.9  288.416667\n",
       "1089  17.8  25.0  10.7  1015.8  54.0  2.3   9.4  22.2  256.833333\n",
       "1090  13.9  24.5  11.4  1015.0  95.0  0.6   8.7  14.8  169.000000\n",
       "1091  16.3  23.0   9.8  1016.9  78.0  1.1   7.4  16.5  186.041667\n",
       "1092  16.3  23.4   9.0  1017.3  68.0  1.3   7.8  18.3  185.583333\n",
       "\n",
       "[362 rows x 9 columns]"
      ]
     },
     "execution_count": 90,
     "metadata": {},
     "output_type": "execute_result"
    }
   ],
   "source": [
    "updated_df[updated_df.duplicated()]"
   ]
  },
  {
   "cell_type": "code",
   "execution_count": 91,
   "id": "fcda29c1",
   "metadata": {},
   "outputs": [],
   "source": [
    "X=updated_df.iloc[:,:-1] ## independent features\n",
    "y=updated_df.iloc[:,-1] ## dependent features"
   ]
  },
  {
   "cell_type": "code",
   "execution_count": 92,
   "id": "2a73742c",
   "metadata": {},
   "outputs": [
    {
     "data": {
      "text/html": [
       "<div>\n",
       "<style scoped>\n",
       "    .dataframe tbody tr th:only-of-type {\n",
       "        vertical-align: middle;\n",
       "    }\n",
       "\n",
       "    .dataframe tbody tr th {\n",
       "        vertical-align: top;\n",
       "    }\n",
       "\n",
       "    .dataframe thead th {\n",
       "        text-align: right;\n",
       "    }\n",
       "</style>\n",
       "<table border=\"1\" class=\"dataframe\">\n",
       "  <thead>\n",
       "    <tr style=\"text-align: right;\">\n",
       "      <th></th>\n",
       "      <th>T</th>\n",
       "      <th>TM</th>\n",
       "      <th>Tm</th>\n",
       "      <th>SLP</th>\n",
       "      <th>H</th>\n",
       "      <th>VV</th>\n",
       "      <th>V</th>\n",
       "      <th>VM</th>\n",
       "    </tr>\n",
       "  </thead>\n",
       "  <tbody>\n",
       "    <tr>\n",
       "      <th>0</th>\n",
       "      <td>7.4</td>\n",
       "      <td>9.8</td>\n",
       "      <td>4.8</td>\n",
       "      <td>1017.6</td>\n",
       "      <td>93.0</td>\n",
       "      <td>0.5</td>\n",
       "      <td>4.3</td>\n",
       "      <td>9.4</td>\n",
       "    </tr>\n",
       "    <tr>\n",
       "      <th>1</th>\n",
       "      <td>7.8</td>\n",
       "      <td>12.7</td>\n",
       "      <td>4.4</td>\n",
       "      <td>1018.5</td>\n",
       "      <td>87.0</td>\n",
       "      <td>0.6</td>\n",
       "      <td>4.4</td>\n",
       "      <td>11.1</td>\n",
       "    </tr>\n",
       "    <tr>\n",
       "      <th>2</th>\n",
       "      <td>6.7</td>\n",
       "      <td>13.4</td>\n",
       "      <td>2.4</td>\n",
       "      <td>1019.4</td>\n",
       "      <td>82.0</td>\n",
       "      <td>0.6</td>\n",
       "      <td>4.8</td>\n",
       "      <td>11.1</td>\n",
       "    </tr>\n",
       "    <tr>\n",
       "      <th>3</th>\n",
       "      <td>8.6</td>\n",
       "      <td>15.5</td>\n",
       "      <td>3.3</td>\n",
       "      <td>1018.7</td>\n",
       "      <td>72.0</td>\n",
       "      <td>0.8</td>\n",
       "      <td>8.1</td>\n",
       "      <td>20.6</td>\n",
       "    </tr>\n",
       "    <tr>\n",
       "      <th>4</th>\n",
       "      <td>12.4</td>\n",
       "      <td>20.9</td>\n",
       "      <td>4.4</td>\n",
       "      <td>1017.3</td>\n",
       "      <td>61.0</td>\n",
       "      <td>1.3</td>\n",
       "      <td>8.7</td>\n",
       "      <td>22.2</td>\n",
       "    </tr>\n",
       "    <tr>\n",
       "      <th>...</th>\n",
       "      <td>...</td>\n",
       "      <td>...</td>\n",
       "      <td>...</td>\n",
       "      <td>...</td>\n",
       "      <td>...</td>\n",
       "      <td>...</td>\n",
       "      <td>...</td>\n",
       "      <td>...</td>\n",
       "    </tr>\n",
       "    <tr>\n",
       "      <th>1088</th>\n",
       "      <td>18.1</td>\n",
       "      <td>24.0</td>\n",
       "      <td>11.2</td>\n",
       "      <td>1015.4</td>\n",
       "      <td>56.0</td>\n",
       "      <td>1.8</td>\n",
       "      <td>15.9</td>\n",
       "      <td>25.9</td>\n",
       "    </tr>\n",
       "    <tr>\n",
       "      <th>1089</th>\n",
       "      <td>17.8</td>\n",
       "      <td>25.0</td>\n",
       "      <td>10.7</td>\n",
       "      <td>1015.8</td>\n",
       "      <td>54.0</td>\n",
       "      <td>2.3</td>\n",
       "      <td>9.4</td>\n",
       "      <td>22.2</td>\n",
       "    </tr>\n",
       "    <tr>\n",
       "      <th>1090</th>\n",
       "      <td>13.9</td>\n",
       "      <td>24.5</td>\n",
       "      <td>11.4</td>\n",
       "      <td>1015.0</td>\n",
       "      <td>95.0</td>\n",
       "      <td>0.6</td>\n",
       "      <td>8.7</td>\n",
       "      <td>14.8</td>\n",
       "    </tr>\n",
       "    <tr>\n",
       "      <th>1091</th>\n",
       "      <td>16.3</td>\n",
       "      <td>23.0</td>\n",
       "      <td>9.8</td>\n",
       "      <td>1016.9</td>\n",
       "      <td>78.0</td>\n",
       "      <td>1.1</td>\n",
       "      <td>7.4</td>\n",
       "      <td>16.5</td>\n",
       "    </tr>\n",
       "    <tr>\n",
       "      <th>1092</th>\n",
       "      <td>16.3</td>\n",
       "      <td>23.4</td>\n",
       "      <td>9.0</td>\n",
       "      <td>1017.3</td>\n",
       "      <td>68.0</td>\n",
       "      <td>1.3</td>\n",
       "      <td>7.8</td>\n",
       "      <td>18.3</td>\n",
       "    </tr>\n",
       "  </tbody>\n",
       "</table>\n",
       "<p>1093 rows × 8 columns</p>\n",
       "</div>"
      ],
      "text/plain": [
       "         T    TM    Tm     SLP     H   VV     V    VM\n",
       "0      7.4   9.8   4.8  1017.6  93.0  0.5   4.3   9.4\n",
       "1      7.8  12.7   4.4  1018.5  87.0  0.6   4.4  11.1\n",
       "2      6.7  13.4   2.4  1019.4  82.0  0.6   4.8  11.1\n",
       "3      8.6  15.5   3.3  1018.7  72.0  0.8   8.1  20.6\n",
       "4     12.4  20.9   4.4  1017.3  61.0  1.3   8.7  22.2\n",
       "...    ...   ...   ...     ...   ...  ...   ...   ...\n",
       "1088  18.1  24.0  11.2  1015.4  56.0  1.8  15.9  25.9\n",
       "1089  17.8  25.0  10.7  1015.8  54.0  2.3   9.4  22.2\n",
       "1090  13.9  24.5  11.4  1015.0  95.0  0.6   8.7  14.8\n",
       "1091  16.3  23.0   9.8  1016.9  78.0  1.1   7.4  16.5\n",
       "1092  16.3  23.4   9.0  1017.3  68.0  1.3   7.8  18.3\n",
       "\n",
       "[1093 rows x 8 columns]"
      ]
     },
     "execution_count": 92,
     "metadata": {},
     "output_type": "execute_result"
    }
   ],
   "source": [
    "X"
   ]
  },
  {
   "cell_type": "code",
   "execution_count": 93,
   "id": "24de1db9",
   "metadata": {},
   "outputs": [
    {
     "data": {
      "text/plain": [
       "0       219.720833\n",
       "1       182.187500\n",
       "2       154.037500\n",
       "3       223.208333\n",
       "4       200.645833\n",
       "           ...    \n",
       "1088    288.416667\n",
       "1089    256.833333\n",
       "1090    169.000000\n",
       "1091    186.041667\n",
       "1092    185.583333\n",
       "Name: PM 2.5, Length: 1093, dtype: float64"
      ]
     },
     "execution_count": 93,
     "metadata": {},
     "output_type": "execute_result"
    }
   ],
   "source": [
    "y"
   ]
  },
  {
   "cell_type": "markdown",
   "id": "54951015",
   "metadata": {},
   "source": [
    "### Hyperparameters\n",
    "1. How many number of hidden layers we should have?\n",
    "2. How many number of neurons we should have in hidden layers?\n",
    "3. Learning Rate"
   ]
  },
  {
   "cell_type": "code",
   "execution_count": 100,
   "id": "810bf609",
   "metadata": {},
   "outputs": [],
   "source": [
    "def build_model(hp):\n",
    "    model = keras.Sequential()\n",
    "    for i in range(hp.Int('num_layers', 2, 20)):\n",
    "        model.add(layers.Dense(units=hp.Int('units_' + str(i),\n",
    "                                            min_value=32,\n",
    "                                            max_value=512,\n",
    "                                            step=32),\n",
    "                               activation='relu'))\n",
    "    model.add(layers.Dense(1, activation='linear'))\n",
    "    model.compile(\n",
    "        optimizer=keras.optimizers.Adam(\n",
    "            hp.Choice('learning_rate', [1e-2, 1e-3, 1e-4])),\n",
    "        loss=losses.MeanAbsoluteError(reduction=\"auto\", name=\"mean_absolute_error\"),\n",
    "        metrics=['mean_absolute_error'])\n",
    "    return model"
   ]
  },
  {
   "cell_type": "code",
   "execution_count": 101,
   "id": "2e444ca4",
   "metadata": {},
   "outputs": [],
   "source": [
    "tuner = RandomSearch(\n",
    "    build_model,\n",
    "    objective='val_mean_absolute_error',\n",
    "    max_trials=5,\n",
    "    executions_per_trial=3,\n",
    "    directory='project2',\n",
    "    project_name='TunerTest2')"
   ]
  },
  {
   "cell_type": "code",
   "execution_count": 102,
   "id": "63c9d05a",
   "metadata": {},
   "outputs": [
    {
     "name": "stdout",
     "output_type": "stream",
     "text": [
      "Search space summary\n",
      "Default search space size: 4\n",
      "num_layers (Int)\n",
      "{'default': None, 'conditions': [], 'min_value': 2, 'max_value': 20, 'step': 1, 'sampling': None}\n",
      "units_0 (Int)\n",
      "{'default': None, 'conditions': [], 'min_value': 32, 'max_value': 512, 'step': 32, 'sampling': None}\n",
      "units_1 (Int)\n",
      "{'default': None, 'conditions': [], 'min_value': 32, 'max_value': 512, 'step': 32, 'sampling': None}\n",
      "learning_rate (Choice)\n",
      "{'default': 0.01, 'conditions': [], 'values': [0.01, 0.001, 0.0001], 'ordered': True}\n"
     ]
    }
   ],
   "source": [
    "model_summary = tuner.search_space_summary()"
   ]
  },
  {
   "cell_type": "code",
   "execution_count": 103,
   "id": "9c53a10e",
   "metadata": {},
   "outputs": [],
   "source": [
    "from sklearn.model_selection import train_test_split\n",
    "X_train, X_test, y_train, y_test = train_test_split(X, y, test_size=0.3, random_state=0)"
   ]
  },
  {
   "cell_type": "code",
   "execution_count": 104,
   "id": "5196fc79",
   "metadata": {},
   "outputs": [
    {
     "name": "stdout",
     "output_type": "stream",
     "text": [
      "Trial 5 Complete [00h 02m 12s]\n",
      "val_mean_absolute_error: 42.73469670613607\n",
      "\n",
      "Best val_mean_absolute_error So Far: 40.349561055501304\n",
      "Total elapsed time: 00h 07m 25s\n",
      "INFO:tensorflow:Oracle triggered exit\n"
     ]
    }
   ],
   "source": [
    "tuner.search(X_train, y_train,\n",
    "             epochs=100,\n",
    "             validation_data=(X_test, y_test))"
   ]
  },
  {
   "cell_type": "code",
   "execution_count": 105,
   "id": "7a47585b",
   "metadata": {},
   "outputs": [
    {
     "name": "stdout",
     "output_type": "stream",
     "text": [
      "Results summary\n",
      "Results in project2\\TunerTest2\n",
      "Showing 10 best trials\n",
      "<keras_tuner.engine.objective.Objective object at 0x000002801A0181F0>\n",
      "Trial summary\n",
      "Hyperparameters:\n",
      "num_layers: 5\n",
      "units_0: 256\n",
      "units_1: 96\n",
      "learning_rate: 0.01\n",
      "units_2: 128\n",
      "units_3: 352\n",
      "units_4: 64\n",
      "units_5: 160\n",
      "units_6: 160\n",
      "units_7: 384\n",
      "units_8: 96\n",
      "units_9: 448\n",
      "units_10: 288\n",
      "units_11: 128\n",
      "units_12: 224\n",
      "units_13: 192\n",
      "Score: 40.349561055501304\n",
      "Trial summary\n",
      "Hyperparameters:\n",
      "num_layers: 11\n",
      "units_0: 288\n",
      "units_1: 448\n",
      "learning_rate: 0.001\n",
      "units_2: 32\n",
      "units_3: 32\n",
      "units_4: 32\n",
      "units_5: 32\n",
      "units_6: 32\n",
      "units_7: 32\n",
      "units_8: 32\n",
      "units_9: 32\n",
      "units_10: 32\n",
      "Score: 41.01793670654297\n",
      "Trial summary\n",
      "Hyperparameters:\n",
      "num_layers: 12\n",
      "units_0: 288\n",
      "units_1: 192\n",
      "learning_rate: 0.0001\n",
      "units_2: 64\n",
      "units_3: 352\n",
      "units_4: 352\n",
      "units_5: 480\n",
      "units_6: 320\n",
      "units_7: 192\n",
      "units_8: 384\n",
      "units_9: 96\n",
      "units_10: 448\n",
      "units_11: 192\n",
      "units_12: 384\n",
      "units_13: 256\n",
      "Score: 42.53661092122396\n",
      "Trial summary\n",
      "Hyperparameters:\n",
      "num_layers: 17\n",
      "units_0: 448\n",
      "units_1: 128\n",
      "learning_rate: 0.0001\n",
      "units_2: 320\n",
      "units_3: 480\n",
      "units_4: 352\n",
      "units_5: 352\n",
      "units_6: 128\n",
      "units_7: 320\n",
      "units_8: 160\n",
      "units_9: 288\n",
      "units_10: 352\n",
      "units_11: 288\n",
      "units_12: 512\n",
      "units_13: 64\n",
      "units_14: 32\n",
      "units_15: 32\n",
      "units_16: 32\n",
      "Score: 42.73469670613607\n",
      "Trial summary\n",
      "Hyperparameters:\n",
      "num_layers: 14\n",
      "units_0: 448\n",
      "units_1: 320\n",
      "learning_rate: 0.01\n",
      "units_2: 128\n",
      "units_3: 96\n",
      "units_4: 224\n",
      "units_5: 192\n",
      "units_6: 128\n",
      "units_7: 256\n",
      "units_8: 512\n",
      "units_9: 320\n",
      "units_10: 384\n",
      "units_11: 32\n",
      "units_12: 32\n",
      "units_13: 32\n",
      "Score: 49.207275390625\n"
     ]
    }
   ],
   "source": [
    "tuner.results_summary()"
   ]
  }
 ],
 "metadata": {
  "kernelspec": {
   "display_name": "Python 3 (ipykernel)",
   "language": "python",
   "name": "python3"
  },
  "language_info": {
   "codemirror_mode": {
    "name": "ipython",
    "version": 3
   },
   "file_extension": ".py",
   "mimetype": "text/x-python",
   "name": "python",
   "nbconvert_exporter": "python",
   "pygments_lexer": "ipython3",
   "version": "3.9.12"
  }
 },
 "nbformat": 4,
 "nbformat_minor": 5
}
