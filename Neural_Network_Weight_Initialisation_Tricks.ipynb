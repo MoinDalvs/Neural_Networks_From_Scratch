{
 "cells": [
  {
   "cell_type": "markdown",
   "id": "4beca8f0",
   "metadata": {},
   "source": [
    "# Artificial Neural Network"
   ]
  },
  {
   "cell_type": "markdown",
   "id": "15d65011",
   "metadata": {},
   "source": [
    "### Part 1 - Data Preprocessing"
   ]
  },
  {
   "cell_type": "code",
   "execution_count": 2,
   "id": "b58eec44",
   "metadata": {},
   "outputs": [],
   "source": [
    "# Importing the libraries\n",
    "import numpy as np\n",
    "import matplotlib.pyplot as plt\n",
    "import pandas as pd"
   ]
  },
  {
   "cell_type": "code",
   "execution_count": 3,
   "id": "85547a2d",
   "metadata": {},
   "outputs": [],
   "source": [
    "# Importing the dataset\n",
    "dataset = pd.read_csv('https://raw.githubusercontent.com/krishnaik06/Complete-Deep-Learning/master/ANN/Churn_Modelling.csv')\n",
    "X = dataset.iloc[:, 3:13]\n",
    "y = dataset.iloc[:, 13]"
   ]
  },
  {
   "cell_type": "code",
   "execution_count": 4,
   "id": "536936a8",
   "metadata": {},
   "outputs": [],
   "source": [
    "#Create dummy variables\n",
    "geography=pd.get_dummies(X[\"Geography\"],drop_first=True)\n",
    "gender=pd.get_dummies(X['Gender'],drop_first=True)"
   ]
  },
  {
   "cell_type": "markdown",
   "id": "bb87230b",
   "metadata": {},
   "source": [
    "### Concatenate the Data Frames"
   ]
  },
  {
   "cell_type": "code",
   "execution_count": 5,
   "id": "395dcf0d",
   "metadata": {},
   "outputs": [],
   "source": [
    "X=pd.concat([X,geography,gender],axis=1)"
   ]
  },
  {
   "cell_type": "code",
   "execution_count": 6,
   "id": "32fae833",
   "metadata": {},
   "outputs": [],
   "source": [
    "## Drop Unnecessary columns\n",
    "X=X.drop(['Geography','Gender'],axis=1)"
   ]
  },
  {
   "cell_type": "code",
   "execution_count": 7,
   "id": "37c6ab41",
   "metadata": {},
   "outputs": [],
   "source": [
    "# Splitting the dataset into the Training set and Test set\n",
    "from sklearn.model_selection import train_test_split\n",
    "X_train, X_test, y_train, y_test = train_test_split(X, y, test_size = 0.2, random_state = 0)"
   ]
  },
  {
   "cell_type": "code",
   "execution_count": 8,
   "id": "181afed5",
   "metadata": {},
   "outputs": [],
   "source": [
    "# Feature Scaling\n",
    "from sklearn.preprocessing import StandardScaler\n",
    "sc = StandardScaler()\n",
    "X_train = sc.fit_transform(X_train)\n",
    "X_test = sc.transform(X_test)"
   ]
  },
  {
   "cell_type": "markdown",
   "id": "085b1b07",
   "metadata": {},
   "source": [
    "### Part 2 - Now let's make the ANN!"
   ]
  },
  {
   "cell_type": "code",
   "execution_count": 9,
   "id": "25216a7f",
   "metadata": {},
   "outputs": [],
   "source": [
    "# Importing the Keras libraries and packages\n",
    "import keras\n",
    "from keras.models import Sequential\n",
    "from keras.layers import Dense\n",
    "from keras.layers import LeakyReLU,PReLU,ELU\n",
    "from keras.layers import Dropout"
   ]
  },
  {
   "cell_type": "code",
   "execution_count": 10,
   "id": "7b7683ac",
   "metadata": {},
   "outputs": [],
   "source": [
    "# Initialising the ANN\n",
    "classifier = Sequential()"
   ]
  },
  {
   "cell_type": "code",
   "execution_count": 13,
   "id": "1944859e",
   "metadata": {},
   "outputs": [],
   "source": [
    "# Adding the input layer and the first hidden layer\n",
    "classifier.add(Dense(units= 6, kernel_initializer= 'he_uniform',activation='relu',input_dim = 11))"
   ]
  },
  {
   "cell_type": "code",
   "execution_count": 15,
   "id": "f7631188",
   "metadata": {},
   "outputs": [],
   "source": [
    "# Adding the second hidden layer\n",
    "classifier.add(Dense(units = 6, kernel_initializer = 'he_uniform',activation='relu'))"
   ]
  },
  {
   "cell_type": "code",
   "execution_count": 16,
   "id": "7b6927ab",
   "metadata": {},
   "outputs": [],
   "source": [
    "# Adding the output layer\n",
    "classifier.add(Dense(units = 1, kernel_initializer = 'glorot_uniform', activation = 'sigmoid'))"
   ]
  },
  {
   "cell_type": "code",
   "execution_count": 17,
   "id": "e15c5a14",
   "metadata": {},
   "outputs": [],
   "source": [
    "# Compiling the ANN\n",
    "classifier.compile(optimizer = 'Adamax', loss = 'binary_crossentropy', metrics = ['accuracy'])"
   ]
  },
  {
   "cell_type": "code",
   "execution_count": 19,
   "id": "f0fc033e",
   "metadata": {},
   "outputs": [
    {
     "name": "stdout",
     "output_type": "stream",
     "text": [
      "Epoch 1/100\n",
      "536/536 [==============================] - 2s 3ms/step - loss: 0.4970 - accuracy: 0.7962 - val_loss: 0.4907 - val_accuracy: 0.7955\n",
      "Epoch 2/100\n",
      "536/536 [==============================] - 1s 2ms/step - loss: 0.4768 - accuracy: 0.7962 - val_loss: 0.4789 - val_accuracy: 0.7955\n",
      "Epoch 3/100\n",
      "536/536 [==============================] - 1s 2ms/step - loss: 0.4657 - accuracy: 0.7962 - val_loss: 0.4700 - val_accuracy: 0.7955\n",
      "Epoch 4/100\n",
      "536/536 [==============================] - 1s 2ms/step - loss: 0.4574 - accuracy: 0.7962 - val_loss: 0.4636 - val_accuracy: 0.7955\n",
      "Epoch 5/100\n",
      "536/536 [==============================] - 1s 2ms/step - loss: 0.4511 - accuracy: 0.7962 - val_loss: 0.4582 - val_accuracy: 0.7955\n",
      "Epoch 6/100\n",
      "536/536 [==============================] - 1s 3ms/step - loss: 0.4459 - accuracy: 0.7962 - val_loss: 0.4538 - val_accuracy: 0.7955\n",
      "Epoch 7/100\n",
      "536/536 [==============================] - 1s 3ms/step - loss: 0.4416 - accuracy: 0.7962 - val_loss: 0.4503 - val_accuracy: 0.7955\n",
      "Epoch 8/100\n",
      "536/536 [==============================] - 1s 2ms/step - loss: 0.4380 - accuracy: 0.7962 - val_loss: 0.4476 - val_accuracy: 0.7955\n",
      "Epoch 9/100\n",
      "536/536 [==============================] - 1s 2ms/step - loss: 0.4350 - accuracy: 0.7974 - val_loss: 0.4451 - val_accuracy: 0.7967\n",
      "Epoch 10/100\n",
      "536/536 [==============================] - 1s 2ms/step - loss: 0.4324 - accuracy: 0.7985 - val_loss: 0.4433 - val_accuracy: 0.7970\n",
      "Epoch 11/100\n",
      "536/536 [==============================] - 1s 2ms/step - loss: 0.4301 - accuracy: 0.8003 - val_loss: 0.4416 - val_accuracy: 0.7978\n",
      "Epoch 12/100\n",
      "536/536 [==============================] - 1s 2ms/step - loss: 0.4282 - accuracy: 0.8015 - val_loss: 0.4399 - val_accuracy: 0.8001\n",
      "Epoch 13/100\n",
      "536/536 [==============================] - 1s 2ms/step - loss: 0.4265 - accuracy: 0.8044 - val_loss: 0.4386 - val_accuracy: 0.8023\n",
      "Epoch 14/100\n",
      "536/536 [==============================] - 1s 2ms/step - loss: 0.4250 - accuracy: 0.8061 - val_loss: 0.4372 - val_accuracy: 0.8054\n",
      "Epoch 15/100\n",
      "536/536 [==============================] - 1s 2ms/step - loss: 0.4235 - accuracy: 0.8080 - val_loss: 0.4359 - val_accuracy: 0.8042\n",
      "Epoch 16/100\n",
      "536/536 [==============================] - 1s 3ms/step - loss: 0.4221 - accuracy: 0.8067 - val_loss: 0.4349 - val_accuracy: 0.8039\n",
      "Epoch 17/100\n",
      "536/536 [==============================] - 1s 2ms/step - loss: 0.4208 - accuracy: 0.8087 - val_loss: 0.4334 - val_accuracy: 0.8058\n",
      "Epoch 18/100\n",
      "536/536 [==============================] - 1s 3ms/step - loss: 0.4195 - accuracy: 0.8078 - val_loss: 0.4321 - val_accuracy: 0.8058\n",
      "Epoch 19/100\n",
      "536/536 [==============================] - 1s 2ms/step - loss: 0.4182 - accuracy: 0.8099 - val_loss: 0.4308 - val_accuracy: 0.8058\n",
      "Epoch 20/100\n",
      "536/536 [==============================] - 1s 2ms/step - loss: 0.4169 - accuracy: 0.8097 - val_loss: 0.4295 - val_accuracy: 0.8065\n",
      "Epoch 21/100\n",
      "536/536 [==============================] - 1s 2ms/step - loss: 0.4156 - accuracy: 0.8100 - val_loss: 0.4282 - val_accuracy: 0.8084\n",
      "Epoch 22/100\n",
      "536/536 [==============================] - 2s 3ms/step - loss: 0.4144 - accuracy: 0.8113 - val_loss: 0.4270 - val_accuracy: 0.8069\n",
      "Epoch 23/100\n",
      "536/536 [==============================] - 1s 2ms/step - loss: 0.4131 - accuracy: 0.8108 - val_loss: 0.4255 - val_accuracy: 0.8088\n",
      "Epoch 24/100\n",
      "536/536 [==============================] - 2s 3ms/step - loss: 0.4117 - accuracy: 0.8123 - val_loss: 0.4244 - val_accuracy: 0.8084\n",
      "Epoch 25/100\n",
      "536/536 [==============================] - 2s 3ms/step - loss: 0.4104 - accuracy: 0.8125 - val_loss: 0.4232 - val_accuracy: 0.8076\n",
      "Epoch 26/100\n",
      "536/536 [==============================] - 1s 2ms/step - loss: 0.4092 - accuracy: 0.8115 - val_loss: 0.4218 - val_accuracy: 0.8084\n",
      "Epoch 27/100\n",
      "536/536 [==============================] - 1s 3ms/step - loss: 0.4078 - accuracy: 0.8134 - val_loss: 0.4206 - val_accuracy: 0.8107\n",
      "Epoch 28/100\n",
      "536/536 [==============================] - 1s 2ms/step - loss: 0.4063 - accuracy: 0.8130 - val_loss: 0.4194 - val_accuracy: 0.8114\n",
      "Epoch 29/100\n",
      "536/536 [==============================] - 2s 3ms/step - loss: 0.4050 - accuracy: 0.8134 - val_loss: 0.4178 - val_accuracy: 0.8122\n",
      "Epoch 30/100\n",
      "536/536 [==============================] - 1s 3ms/step - loss: 0.4034 - accuracy: 0.8141 - val_loss: 0.4164 - val_accuracy: 0.8118\n",
      "Epoch 31/100\n",
      "536/536 [==============================] - 2s 3ms/step - loss: 0.4019 - accuracy: 0.8149 - val_loss: 0.4150 - val_accuracy: 0.8126\n",
      "Epoch 32/100\n",
      "536/536 [==============================] - 1s 2ms/step - loss: 0.4004 - accuracy: 0.8149 - val_loss: 0.4136 - val_accuracy: 0.8133\n",
      "Epoch 33/100\n",
      "536/536 [==============================] - 1s 2ms/step - loss: 0.3988 - accuracy: 0.8166 - val_loss: 0.4121 - val_accuracy: 0.8152\n",
      "Epoch 34/100\n",
      "536/536 [==============================] - 1s 2ms/step - loss: 0.3974 - accuracy: 0.8179 - val_loss: 0.4109 - val_accuracy: 0.8137\n",
      "Epoch 35/100\n",
      "536/536 [==============================] - 2s 5ms/step - loss: 0.3958 - accuracy: 0.8186 - val_loss: 0.4093 - val_accuracy: 0.8145\n",
      "Epoch 36/100\n",
      "536/536 [==============================] - 2s 4ms/step - loss: 0.3941 - accuracy: 0.8210 - val_loss: 0.4080 - val_accuracy: 0.8148\n",
      "Epoch 37/100\n",
      "536/536 [==============================] - 2s 4ms/step - loss: 0.3926 - accuracy: 0.8203 - val_loss: 0.4069 - val_accuracy: 0.8160\n",
      "Epoch 38/100\n",
      "536/536 [==============================] - 2s 4ms/step - loss: 0.3910 - accuracy: 0.8224 - val_loss: 0.4052 - val_accuracy: 0.8186\n",
      "Epoch 39/100\n",
      "536/536 [==============================] - 2s 4ms/step - loss: 0.3893 - accuracy: 0.8233 - val_loss: 0.4042 - val_accuracy: 0.8175\n",
      "Epoch 40/100\n",
      "536/536 [==============================] - 2s 3ms/step - loss: 0.3877 - accuracy: 0.8240 - val_loss: 0.4025 - val_accuracy: 0.8190\n",
      "Epoch 41/100\n",
      "536/536 [==============================] - 1s 3ms/step - loss: 0.3862 - accuracy: 0.8252 - val_loss: 0.4013 - val_accuracy: 0.8205\n",
      "Epoch 42/100\n",
      "536/536 [==============================] - 1s 2ms/step - loss: 0.3847 - accuracy: 0.8266 - val_loss: 0.4000 - val_accuracy: 0.8209\n",
      "Epoch 43/100\n",
      "536/536 [==============================] - 1s 2ms/step - loss: 0.3831 - accuracy: 0.8281 - val_loss: 0.3987 - val_accuracy: 0.8205\n",
      "Epoch 44/100\n",
      "536/536 [==============================] - 1s 2ms/step - loss: 0.3815 - accuracy: 0.8291 - val_loss: 0.3976 - val_accuracy: 0.8217\n",
      "Epoch 45/100\n",
      "536/536 [==============================] - 1s 2ms/step - loss: 0.3801 - accuracy: 0.8293 - val_loss: 0.3963 - val_accuracy: 0.8220\n",
      "Epoch 46/100\n",
      "536/536 [==============================] - 1s 2ms/step - loss: 0.3786 - accuracy: 0.8306 - val_loss: 0.3950 - val_accuracy: 0.8224\n",
      "Epoch 47/100\n",
      "536/536 [==============================] - 1s 3ms/step - loss: 0.3769 - accuracy: 0.8321 - val_loss: 0.3944 - val_accuracy: 0.8251\n",
      "Epoch 48/100\n",
      "536/536 [==============================] - 1s 2ms/step - loss: 0.3757 - accuracy: 0.8339 - val_loss: 0.3927 - val_accuracy: 0.8262\n",
      "Epoch 49/100\n",
      "536/536 [==============================] - 1s 2ms/step - loss: 0.3741 - accuracy: 0.8332 - val_loss: 0.3915 - val_accuracy: 0.8292\n",
      "Epoch 50/100\n",
      "536/536 [==============================] - 1s 2ms/step - loss: 0.3727 - accuracy: 0.8349 - val_loss: 0.3902 - val_accuracy: 0.8300\n",
      "Epoch 51/100\n",
      "536/536 [==============================] - 1s 2ms/step - loss: 0.3715 - accuracy: 0.8365 - val_loss: 0.3893 - val_accuracy: 0.8304\n",
      "Epoch 52/100\n",
      "536/536 [==============================] - 2s 3ms/step - loss: 0.3702 - accuracy: 0.8388 - val_loss: 0.3883 - val_accuracy: 0.8311\n",
      "Epoch 53/100\n",
      "536/536 [==============================] - 2s 3ms/step - loss: 0.3692 - accuracy: 0.8373 - val_loss: 0.3873 - val_accuracy: 0.8334\n",
      "Epoch 54/100\n",
      "536/536 [==============================] - 1s 3ms/step - loss: 0.3679 - accuracy: 0.8416 - val_loss: 0.3866 - val_accuracy: 0.8338\n",
      "Epoch 55/100\n",
      "536/536 [==============================] - 2s 4ms/step - loss: 0.3668 - accuracy: 0.8425 - val_loss: 0.3859 - val_accuracy: 0.8357\n",
      "Epoch 56/100\n",
      "536/536 [==============================] - 2s 3ms/step - loss: 0.3658 - accuracy: 0.8434 - val_loss: 0.3854 - val_accuracy: 0.8360\n",
      "Epoch 57/100\n",
      "536/536 [==============================] - 1s 3ms/step - loss: 0.3648 - accuracy: 0.8425 - val_loss: 0.3848 - val_accuracy: 0.8364\n"
     ]
    },
    {
     "name": "stdout",
     "output_type": "stream",
     "text": [
      "Epoch 58/100\n",
      "536/536 [==============================] - 1s 2ms/step - loss: 0.3641 - accuracy: 0.8433 - val_loss: 0.3837 - val_accuracy: 0.8398\n",
      "Epoch 59/100\n",
      "536/536 [==============================] - 1s 3ms/step - loss: 0.3632 - accuracy: 0.8447 - val_loss: 0.3829 - val_accuracy: 0.8413\n",
      "Epoch 60/100\n",
      "536/536 [==============================] - 2s 3ms/step - loss: 0.3623 - accuracy: 0.8455 - val_loss: 0.3823 - val_accuracy: 0.8421\n",
      "Epoch 61/100\n",
      "536/536 [==============================] - 2s 3ms/step - loss: 0.3613 - accuracy: 0.8485 - val_loss: 0.3817 - val_accuracy: 0.8413\n",
      "Epoch 62/100\n",
      "536/536 [==============================] - 1s 2ms/step - loss: 0.3605 - accuracy: 0.8487 - val_loss: 0.3815 - val_accuracy: 0.8402\n",
      "Epoch 63/100\n",
      "536/536 [==============================] - 1s 2ms/step - loss: 0.3599 - accuracy: 0.8483 - val_loss: 0.3810 - val_accuracy: 0.8410\n",
      "Epoch 64/100\n",
      "536/536 [==============================] - 1s 2ms/step - loss: 0.3593 - accuracy: 0.8481 - val_loss: 0.3808 - val_accuracy: 0.8436\n",
      "Epoch 65/100\n",
      "536/536 [==============================] - 1s 2ms/step - loss: 0.3586 - accuracy: 0.8487 - val_loss: 0.3799 - val_accuracy: 0.8425\n",
      "Epoch 66/100\n",
      "536/536 [==============================] - 1s 2ms/step - loss: 0.3580 - accuracy: 0.8487 - val_loss: 0.3795 - val_accuracy: 0.8444\n",
      "Epoch 67/100\n",
      "536/536 [==============================] - 1s 2ms/step - loss: 0.3574 - accuracy: 0.8494 - val_loss: 0.3791 - val_accuracy: 0.8440\n",
      "Epoch 68/100\n",
      "536/536 [==============================] - 1s 2ms/step - loss: 0.3568 - accuracy: 0.8505 - val_loss: 0.3787 - val_accuracy: 0.8451\n",
      "Epoch 69/100\n",
      "536/536 [==============================] - 1s 3ms/step - loss: 0.3562 - accuracy: 0.8515 - val_loss: 0.3785 - val_accuracy: 0.8455\n",
      "Epoch 70/100\n",
      "536/536 [==============================] - 1s 3ms/step - loss: 0.3558 - accuracy: 0.8520 - val_loss: 0.3782 - val_accuracy: 0.8455\n",
      "Epoch 71/100\n",
      "536/536 [==============================] - 1s 3ms/step - loss: 0.3551 - accuracy: 0.8524 - val_loss: 0.3782 - val_accuracy: 0.8451\n",
      "Epoch 72/100\n",
      "536/536 [==============================] - 1s 3ms/step - loss: 0.3548 - accuracy: 0.8524 - val_loss: 0.3774 - val_accuracy: 0.8455\n",
      "Epoch 73/100\n",
      "536/536 [==============================] - 1s 2ms/step - loss: 0.3543 - accuracy: 0.8543 - val_loss: 0.3770 - val_accuracy: 0.8459\n",
      "Epoch 74/100\n",
      "536/536 [==============================] - 1s 3ms/step - loss: 0.3537 - accuracy: 0.8550 - val_loss: 0.3768 - val_accuracy: 0.8466\n",
      "Epoch 75/100\n",
      "536/536 [==============================] - 2s 3ms/step - loss: 0.3532 - accuracy: 0.8545 - val_loss: 0.3763 - val_accuracy: 0.8459\n",
      "Epoch 76/100\n",
      "536/536 [==============================] - 1s 3ms/step - loss: 0.3528 - accuracy: 0.8563 - val_loss: 0.3758 - val_accuracy: 0.8459\n",
      "Epoch 77/100\n",
      "536/536 [==============================] - 1s 3ms/step - loss: 0.3523 - accuracy: 0.8574 - val_loss: 0.3757 - val_accuracy: 0.8466\n",
      "Epoch 78/100\n",
      "536/536 [==============================] - 1s 3ms/step - loss: 0.3520 - accuracy: 0.8567 - val_loss: 0.3756 - val_accuracy: 0.8459\n",
      "Epoch 79/100\n",
      "536/536 [==============================] - 1s 2ms/step - loss: 0.3516 - accuracy: 0.8584 - val_loss: 0.3751 - val_accuracy: 0.8478\n",
      "Epoch 80/100\n",
      "536/536 [==============================] - 1s 2ms/step - loss: 0.3513 - accuracy: 0.8582 - val_loss: 0.3749 - val_accuracy: 0.8459\n",
      "Epoch 81/100\n",
      "536/536 [==============================] - 1s 2ms/step - loss: 0.3506 - accuracy: 0.8574 - val_loss: 0.3755 - val_accuracy: 0.8455\n",
      "Epoch 82/100\n",
      "536/536 [==============================] - 1s 3ms/step - loss: 0.3505 - accuracy: 0.8578 - val_loss: 0.3752 - val_accuracy: 0.8448\n",
      "Epoch 83/100\n",
      "536/536 [==============================] - 1s 2ms/step - loss: 0.3502 - accuracy: 0.8584 - val_loss: 0.3744 - val_accuracy: 0.8459\n",
      "Epoch 84/100\n",
      "536/536 [==============================] - 1s 2ms/step - loss: 0.3496 - accuracy: 0.8591 - val_loss: 0.3741 - val_accuracy: 0.8493\n",
      "Epoch 85/100\n",
      "536/536 [==============================] - 1s 2ms/step - loss: 0.3491 - accuracy: 0.8574 - val_loss: 0.3736 - val_accuracy: 0.8508\n",
      "Epoch 86/100\n",
      "536/536 [==============================] - 1s 2ms/step - loss: 0.3487 - accuracy: 0.8576 - val_loss: 0.3740 - val_accuracy: 0.8474\n",
      "Epoch 87/100\n",
      "536/536 [==============================] - 1s 2ms/step - loss: 0.3484 - accuracy: 0.8574 - val_loss: 0.3736 - val_accuracy: 0.8463\n",
      "Epoch 88/100\n",
      "536/536 [==============================] - 1s 2ms/step - loss: 0.3480 - accuracy: 0.8600 - val_loss: 0.3733 - val_accuracy: 0.8451\n",
      "Epoch 89/100\n",
      "536/536 [==============================] - 1s 2ms/step - loss: 0.3475 - accuracy: 0.8597 - val_loss: 0.3731 - val_accuracy: 0.8523\n",
      "Epoch 90/100\n",
      "536/536 [==============================] - 2s 3ms/step - loss: 0.3474 - accuracy: 0.8595 - val_loss: 0.3727 - val_accuracy: 0.8463\n",
      "Epoch 91/100\n",
      "536/536 [==============================] - 1s 3ms/step - loss: 0.3470 - accuracy: 0.8591 - val_loss: 0.3724 - val_accuracy: 0.8466\n",
      "Epoch 92/100\n",
      "536/536 [==============================] - 1s 3ms/step - loss: 0.3468 - accuracy: 0.8600 - val_loss: 0.3722 - val_accuracy: 0.8485\n",
      "Epoch 93/100\n",
      "536/536 [==============================] - 1s 3ms/step - loss: 0.3463 - accuracy: 0.8587 - val_loss: 0.3720 - val_accuracy: 0.8478\n",
      "Epoch 94/100\n",
      "536/536 [==============================] - 1s 3ms/step - loss: 0.3462 - accuracy: 0.8593 - val_loss: 0.3718 - val_accuracy: 0.8478\n",
      "Epoch 95/100\n",
      "536/536 [==============================] - 1s 2ms/step - loss: 0.3458 - accuracy: 0.8597 - val_loss: 0.3717 - val_accuracy: 0.8504\n",
      "Epoch 96/100\n",
      "536/536 [==============================] - 2s 5ms/step - loss: 0.3456 - accuracy: 0.8591 - val_loss: 0.3715 - val_accuracy: 0.8482\n",
      "Epoch 97/100\n",
      "536/536 [==============================] - 2s 3ms/step - loss: 0.3453 - accuracy: 0.8597 - val_loss: 0.3715 - val_accuracy: 0.8478\n",
      "Epoch 98/100\n",
      "536/536 [==============================] - 1s 2ms/step - loss: 0.3450 - accuracy: 0.8604 - val_loss: 0.3714 - val_accuracy: 0.8478\n",
      "Epoch 99/100\n",
      "536/536 [==============================] - 1s 2ms/step - loss: 0.3448 - accuracy: 0.8599 - val_loss: 0.3709 - val_accuracy: 0.8482\n",
      "Epoch 100/100\n",
      "536/536 [==============================] - 2s 3ms/step - loss: 0.3445 - accuracy: 0.8608 - val_loss: 0.3710 - val_accuracy: 0.8489\n"
     ]
    }
   ],
   "source": [
    "# Fitting the ANN to the Training set\n",
    "model_history=classifier.fit(X_train, y_train,validation_split=0.33, batch_size = 10, epochs = 100)"
   ]
  },
  {
   "cell_type": "code",
   "execution_count": 21,
   "id": "a8446191",
   "metadata": {},
   "outputs": [
    {
     "data": {
      "text/plain": [
       "dict_keys(['loss', 'accuracy', 'val_loss', 'val_accuracy'])"
      ]
     },
     "execution_count": 21,
     "metadata": {},
     "output_type": "execute_result"
    }
   ],
   "source": [
    "model_history.history.keys()"
   ]
  },
  {
   "cell_type": "code",
   "execution_count": 23,
   "id": "545376ba",
   "metadata": {},
   "outputs": [
    {
     "name": "stdout",
     "output_type": "stream",
     "text": [
      "dict_keys(['loss', 'accuracy', 'val_loss', 'val_accuracy'])\n"
     ]
    },
    {
     "data": {
      "image/png": "[encoded data removed]",
      "text/plain": [
       "<Figure size 1008x576 with 1 Axes>"
      ]
     },
     "metadata": {
      "needs_background": "light"
     },
     "output_type": "display_data"
    }
   ],
   "source": [
    "# list all data in history\n",
    "print(model_history.history.keys())\n",
    "# summarize history for accuracy\n",
    "plt.figure(figsize=(14,8))\n",
    "plt.plot(model_history.history['accuracy'])\n",
    "plt.plot(model_history.history['val_accuracy'])\n",
    "plt.title('model accuracy')\n",
    "plt.ylabel('accuracy')\n",
    "plt.xlabel('epoch')\n",
    "plt.legend(['train', 'test'], loc='upper left')\n",
    "plt.show()"
   ]
  },
  {
   "cell_type": "code",
   "execution_count": 24,
   "id": "bc8269ff",
   "metadata": {},
   "outputs": [
    {
     "data": {
      "image/png": "[encoded data removed]",
      "text/plain": [
       "<Figure size 1008x576 with 1 Axes>"
      ]
     },
     "metadata": {
      "needs_background": "light"
     },
     "output_type": "display_data"
    }
   ],
   "source": [
    "# summarize history for loss\n",
    "plt.figure(figsize=(14,8))\n",
    "plt.plot(model_history.history['loss'])\n",
    "plt.plot(model_history.history['val_loss'])\n",
    "plt.title('model loss')\n",
    "plt.ylabel('loss')\n",
    "plt.xlabel('epoch')\n",
    "plt.legend(['train', 'test'], loc='upper left')\n",
    "plt.show()"
   ]
  },
  {
   "cell_type": "markdown",
   "id": "8ff61a31",
   "metadata": {},
   "source": [
    "### Part 3 - Making the predictions and evaluating the model"
   ]
  },
  {
   "cell_type": "code",
   "execution_count": 25,
   "id": "44a34940",
   "metadata": {},
   "outputs": [
    {
     "name": "stdout",
     "output_type": "stream",
     "text": [
      "63/63 [==============================] - 0s 1ms/step\n"
     ]
    }
   ],
   "source": [
    "# Predicting the Test set results\n",
    "y_pred = classifier.predict(X_test)\n",
    "y_pred = (y_pred > 0.5)"
   ]
  },
  {
   "cell_type": "code",
   "execution_count": 26,
   "id": "08c96ec6",
   "metadata": {},
   "outputs": [],
   "source": [
    "# Making the Confusion Matrix\n",
    "from sklearn.metrics import confusion_matrix\n",
    "cm = confusion_matrix(y_test, y_pred)"
   ]
  },
  {
   "cell_type": "code",
   "execution_count": 28,
   "id": "97b63b31",
   "metadata": {},
   "outputs": [
    {
     "data": {
      "text/plain": [
       "array([[1504,   91],\n",
       "       [ 197,  208]], dtype=int64)"
      ]
     },
     "execution_count": 28,
     "metadata": {},
     "output_type": "execute_result"
    }
   ],
   "source": [
    "cm"
   ]
  },
  {
   "cell_type": "code",
   "execution_count": 27,
   "id": "5d67873a",
   "metadata": {},
   "outputs": [],
   "source": [
    "# Calculate the Accuracy\n",
    "from sklearn.metrics import accuracy_score\n",
    "score=accuracy_score(y_pred,y_test)"
   ]
  },
  {
   "cell_type": "code",
   "execution_count": 29,
   "id": "3cc44781",
   "metadata": {},
   "outputs": [
    {
     "data": {
      "text/plain": [
       "0.856"
      ]
     },
     "execution_count": 29,
     "metadata": {},
     "output_type": "execute_result"
    }
   ],
   "source": [
    "score"
   ]
  }
 ],
 "metadata": {
  "kernelspec": {
   "display_name": "Python 3 (ipykernel)",
   "language": "python",
   "name": "python3"
  },
  "language_info": {
   "codemirror_mode": {
    "name": "ipython",
    "version": 3
   },
   "file_extension": ".py",
   "mimetype": "text/x-python",
   "name": "python",
   "nbconvert_exporter": "python",
   "pygments_lexer": "ipython3",
   "version": "3.9.12"
  }
 },
 "nbformat": 4,
 "nbformat_minor": 5
}
